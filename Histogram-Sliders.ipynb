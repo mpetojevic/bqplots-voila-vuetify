{
 "cells": [
  {
   "attachments": {},
   "cell_type": "markdown",
   "metadata": {},
   "source": [
    "# Histogram plot"
   ]
  },
  {
   "cell_type": "code",
   "execution_count": null,
   "metadata": {},
   "outputs": [],
   "source": [
    "import ipyvuetify as v\n",
    "import ipywidgets as widgets\n",
    "import numpy as np\n",
    "from bqplot import pyplot as plt\n",
    "import bqplot\n",
    "\n",
    "\n",
    "n = 200\n",
    "\n",
    "x = np.linspace(0.0, 10.0, n)\n",
    "y = np.cumsum(np.random.randn(n)*10).astype(int)\n",
    "\n",
    "fig = plt.figure( title='Histogram')\n",
    "np.random.seed(0)\n",
    "hist = plt.hist(y, bins=25)\n",
    "hist.scales['sample'].min = float(y.min())\n",
    "hist.scales['sample'].max = float(y.max())\n",
    "fig.layout.width = 'auto'\n",
    "fig.layout.height = 'auto'\n",
    "fig.layout.min_height = '300px' # so it shows nicely in the notebook\n",
    "fig"
   ]
  },
  {
   "cell_type": "code",
   "execution_count": null,
   "metadata": {},
   "outputs": [],
   "source": [
    "slider = v.Slider(thumb_label='always', class_=\"px-4\", v_model=30)\n",
    "widgets.link((slider, 'v_model'), (hist, 'bins'))\n",
    "slider"
   ]
  },
  {
   "attachments": {},
   "cell_type": "markdown",
   "metadata": {},
   "source": [
    "# Line chart"
   ]
  },
  {
   "cell_type": "code",
   "execution_count": null,
   "metadata": {},
   "outputs": [],
   "source": [
    "fig2 = plt.figure( title='Line Chart')\n",
    "np.random.seed(0)\n",
    "p = plt.plot(x, y)\n",
    "\n",
    "fig2.layout.width = 'auto'\n",
    "fig2.layout.height = 'auto'\n",
    "fig2.layout.min_height = '300px' # so it shows nicely in the notebook\n",
    "fig2"
   ]
  },
  {
   "cell_type": "code",
   "execution_count": null,
   "metadata": {},
   "outputs": [],
   "source": [
    "brushintsel = bqplot.interacts.BrushIntervalSelector(scale=p.scales['x'])\n",
    "\n",
    "def update_range(*args):\n",
    "    if brushintsel.selected is not None and brushintsel.selected.shape == (2,):\n",
    "        mask = (x > brushintsel.selected[0]) & (x < brushintsel.selected[1])\n",
    "        hist.sample = y[mask]\n",
    "    \n",
    "brushintsel.observe(update_range, 'selected')\n",
    "fig2.interaction = brushintsel"
   ]
  },
  {
   "attachments": {},
   "cell_type": "markdown",
   "metadata": {},
   "source": [
    "# Second histogram plot"
   ]
  },
  {
   "cell_type": "code",
   "execution_count": null,
   "metadata": {},
   "outputs": [],
   "source": [
    "n2 = 200\n",
    "\n",
    "x2 = np.linspace(0.0, 10.0, n)\n",
    "y2 = np.cumsum(np.random.randn(n)*10).astype(int)\n",
    "\n",
    "figHist2 = plt.figure( title='Histogram 2')\n",
    "np.random.seed(0)\n",
    "hist2 = plt.hist(y2, bins=25)\n",
    "hist2.scales['sample'].min = float(y2.min())\n",
    "hist2.scales['sample'].max = float(y2.max())\n",
    "figHist2.layout.width = 'auto'\n",
    "figHist2.layout.height = 'auto'\n",
    "figHist2.layout.min_height = '300px' # so it shows nicely in the notebook\n",
    "\n",
    "sliderHist2 = v.Slider(_metadata={'mount_id': 'histogram_bins2'}, thumb_label='always', class_='px-4', v_model=5)\n",
    "from traitlets import link\n",
    "link((sliderHist2, 'v_model'), (hist2, 'bins'))\n",
    "\n",
    "\n",
    "display(figHist2)\n",
    "display(sliderHist2)\n"
   ]
  },
  {
   "cell_type": "code",
   "execution_count": null,
   "metadata": {},
   "outputs": [],
   "source": [
    "import numpy as np\n",
    "from scipy.stats import norm\n",
    "\n",
    "from ipywidgets import FloatSlider, HBox, VBox\n",
    "import bqplot.pyplot as plt\n",
    "\n",
    "x = np.linspace(-10, 10, 200)\n",
    "y = norm.pdf(x)\n",
    "\n",
    "# plot the gaussian density\n",
    "title_tmpl = 'Gaussian Density (mu = {} and sigma = {})'\n",
    "pdf_fig = plt.figure(title=title_tmpl.format(0, 1))\n",
    "\n",
    "pdf_line = plt.plot(x, y, 'm', stroke_width=3)\n",
    "\n",
    "mu_slider = FloatSlider(_metadata={'mount_id': 'float_slider1'}, description='mu', value=0, min=-5, max=5, step=.1)\n",
    "sigma_slider = FloatSlider(_metadata={'mount_id': 'float_slider2'}, description='sigma', value=1, min=0.1, max=5, step=.1)\n",
    "\n",
    "slider_layout = HBox([mu_slider, sigma_slider])\n",
    "\n",
    "def update_density(change):\n",
    "    new_mu = mu_slider.value\n",
    "    new_sigma = sigma_slider.value\n",
    "    # update the y attribute of the plot with the new pdf\n",
    "    # computed using new mu and sigma values\n",
    "    pdf_line.y = norm.pdf(x, new_mu, new_sigma)\n",
    "    \n",
    "    # also update the fig title\n",
    "    pdf_fig.title = title_tmpl.format(new_mu, new_sigma)\n",
    "\n",
    "# register the above callback with the 'value' trait of the sliders\n",
    "mu_slider.observe(update_density, 'value')\n",
    "sigma_slider.observe(update_density, 'value')\n",
    "\n",
    "final_layout = VBox([pdf_fig, slider_layout])\n",
    "final_layout.layout.min_height = '400px'\n",
    "display(final_layout)"
   ]
  },
  {
   "cell_type": "code",
   "execution_count": null,
   "metadata": {},
   "outputs": [],
   "source": [
    "v.Tabs(_metadata={'mount_id': 'content-main'}, children=[\n",
    "    v.Tab(children=['BQ-Histogram Plots']),\n",
    "    v.Tab(children=['Guassian plot']),\n",
    "    v.TabItem(children=[\n",
    "        v.Layout(row=True, wrap=True, align_center=True, children=[\n",
    "            v.Flex(xs12=True, lg6=True, xl4=True, children=[\n",
    "                fig, slider\n",
    "            ]),\n",
    "            v.Flex(xs12=True, lg6=True, xl4=True, children=[\n",
    "                figHist2, sliderHist2\n",
    "            ]),\n",
    "            v.Flex(xs12=True, xl4=True, children=[\n",
    "                fig2\n",
    "            ]),\n",
    "        ])\n",
    "    ]),\n",
    "    v.TabItem(children=[\n",
    "        v.Container(children=[final_layout])\n",
    "    ])\n",
    "])"
   ]
  }
 ],
 "metadata": {
  "language_info": {
   "name": "python"
  },
  "orig_nbformat": 4
 },
 "nbformat": 4,
 "nbformat_minor": 2
}
